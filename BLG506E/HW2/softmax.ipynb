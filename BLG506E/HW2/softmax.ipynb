{
 "cells": [
  {
   "cell_type": "markdown",
   "id": "26fdca1c",
   "metadata": {
    "tags": [
     "pdf-title"
    ]
   },
   "source": [
    "# Softmax exercise\n",
    "\n",
    "*Complete and hand in this completed worksheet (including its outputs and any supporting code outside of the worksheet) with your assignment submission. For more details see the [assignments page](http://vision.stanford.edu/teaching/cs231n/assignments.html) on the course website.*\n",
    "\n",
    "This exercise is analogous to the SVM exercise. You will:\n",
    "\n",
    "- implement a fully-vectorized **loss function** for the Softmax classifier\n",
    "- implement the fully-vectorized expression for its **analytic gradient**\n",
    "- **check your implementation** with numerical gradient\n",
    "- use a validation set to **tune the learning rate and regularization** strength\n",
    "- **optimize** the loss function with **SGD**\n",
    "- **visualize** the final learned weights\n"
   ]
  },
  {
   "cell_type": "code",
   "execution_count": 17,
   "id": "1f12280f",
   "metadata": {
    "tags": [
     "pdf-ignore"
    ]
   },
   "outputs": [
    {
     "name": "stdout",
     "output_type": "stream",
     "text": [
      "The autoreload extension is already loaded. To reload it, use:\n",
      "  %reload_ext autoreload\n"
     ]
    }
   ],
   "source": [
    "import random\n",
    "import numpy as np\n",
    "from cs231n.data_utils import load_CIFAR10\n",
    "import matplotlib.pyplot as plt\n",
    "\n",
    "%matplotlib inline\n",
    "plt.rcParams['figure.figsize'] = (10.0, 8.0) # set default size of plots\n",
    "plt.rcParams['image.interpolation'] = 'nearest'\n",
    "plt.rcParams['image.cmap'] = 'gray'\n",
    "\n",
    "# for auto-reloading extenrnal modules\n",
    "# see http://stackoverflow.com/questions/1907993/autoreload-of-modules-in-ipython\n",
    "%load_ext autoreload\n",
    "%autoreload 2"
   ]
  },
  {
   "cell_type": "code",
   "execution_count": 18,
   "id": "ab106c82",
   "metadata": {
    "tags": [
     "pdf-ignore"
    ]
   },
   "outputs": [
    {
     "name": "stdout",
     "output_type": "stream",
     "text": [
      "Train data shape:  (49000, 3073)\n",
      "Train labels shape:  (49000,)\n",
      "Validation data shape:  (1000, 3073)\n",
      "Validation labels shape:  (1000,)\n",
      "Test data shape:  (1000, 3073)\n",
      "Test labels shape:  (1000,)\n",
      "dev data shape:  (500, 3073)\n",
      "dev labels shape:  (500,)\n"
     ]
    }
   ],
   "source": [
    "def get_CIFAR10_data(num_training=49000, num_validation=1000, num_test=1000, num_dev=500):\n",
    "    \"\"\"\n",
    "    Load the CIFAR-10 dataset from disk and perform preprocessing to prepare\n",
    "    it for the linear classifier. These are the same steps as we used for the\n",
    "    SVM, but condensed to a single function.  \n",
    "    \"\"\"\n",
    "    # Load the raw CIFAR-10 data\n",
    "    cifar10_dir = 'cs231n/datasets/cifar-10-batches-py'\n",
    "    \n",
    "    # Cleaning up variables to prevent loading data multiple times (which may cause memory issue)\n",
    "    try:\n",
    "       del X_train, y_train\n",
    "       del X_test, y_test\n",
    "       print('Clear previously loaded data.')\n",
    "    except:\n",
    "       pass\n",
    "\n",
    "    X_train, y_train, X_test, y_test = load_CIFAR10(cifar10_dir)\n",
    "    \n",
    "    # subsample the data\n",
    "    mask = list(range(num_training, num_training + num_validation))\n",
    "    X_val = X_train[mask]\n",
    "    y_val = y_train[mask]\n",
    "    mask = list(range(num_training))\n",
    "    X_train = X_train[mask]\n",
    "    y_train = y_train[mask]\n",
    "    mask = list(range(num_test))\n",
    "    X_test = X_test[mask]\n",
    "    y_test = y_test[mask]\n",
    "    mask = np.random.choice(num_training, num_dev, replace=False)\n",
    "    X_dev = X_train[mask]\n",
    "    y_dev = y_train[mask]\n",
    "    \n",
    "    # Preprocessing: reshape the image data into rows\n",
    "    X_train = np.reshape(X_train, (X_train.shape[0], -1))\n",
    "    X_val = np.reshape(X_val, (X_val.shape[0], -1))\n",
    "    X_test = np.reshape(X_test, (X_test.shape[0], -1))\n",
    "    X_dev = np.reshape(X_dev, (X_dev.shape[0], -1))\n",
    "    \n",
    "    # Normalize the data: subtract the mean image\n",
    "    mean_image = np.mean(X_train, axis = 0)\n",
    "    X_train -= mean_image\n",
    "    X_val -= mean_image\n",
    "    X_test -= mean_image\n",
    "    X_dev -= mean_image\n",
    "    \n",
    "    # add bias dimension and transform into columns\n",
    "    X_train = np.hstack([X_train, np.ones((X_train.shape[0], 1))])\n",
    "    X_val = np.hstack([X_val, np.ones((X_val.shape[0], 1))])\n",
    "    X_test = np.hstack([X_test, np.ones((X_test.shape[0], 1))])\n",
    "    X_dev = np.hstack([X_dev, np.ones((X_dev.shape[0], 1))])\n",
    "    \n",
    "    return X_train, y_train, X_val, y_val, X_test, y_test, X_dev, y_dev\n",
    "\n",
    "\n",
    "# Invoke the above function to get our data.\n",
    "X_train, y_train, X_val, y_val, X_test, y_test, X_dev, y_dev = get_CIFAR10_data()\n",
    "print('Train data shape: ', X_train.shape)\n",
    "print('Train labels shape: ', y_train.shape)\n",
    "print('Validation data shape: ', X_val.shape)\n",
    "print('Validation labels shape: ', y_val.shape)\n",
    "print('Test data shape: ', X_test.shape)\n",
    "print('Test labels shape: ', y_test.shape)\n",
    "print('dev data shape: ', X_dev.shape)\n",
    "print('dev labels shape: ', y_dev.shape)"
   ]
  },
  {
   "cell_type": "markdown",
   "id": "4721c3cb",
   "metadata": {},
   "source": [
    "## Softmax Classifier\n",
    "\n",
    "Your code for this section will all be written inside `cs231n/classifiers/softmax.py`.\n"
   ]
  },
  {
   "cell_type": "code",
   "execution_count": 19,
   "id": "d42765cd",
   "metadata": {},
   "outputs": [
    {
     "name": "stdout",
     "output_type": "stream",
     "text": [
      "loss: 2.365971\n",
      "sanity check: 2.302585\n"
     ]
    }
   ],
   "source": [
    "# First implement the naive softmax loss function with nested loops.\n",
    "# Open the file cs231n/classifiers/softmax.py and implement the\n",
    "# softmax_loss_naive function.\n",
    "\n",
    "from cs231n.classifiers.softmax import softmax_loss_naive\n",
    "import time\n",
    "\n",
    "# Generate a random softmax weight matrix and use it to compute the loss.\n",
    "W = np.random.randn(3073, 10) * 0.0001\n",
    "loss, grad = softmax_loss_naive(W, X_dev, y_dev, 0.0)\n",
    "\n",
    "# As a rough sanity check, our loss should be something close to -log(0.1).\n",
    "print('loss: %f' % loss)\n",
    "print('sanity check: %f' % (-np.log(0.1)))"
   ]
  },
  {
   "cell_type": "markdown",
   "id": "6f88764e",
   "metadata": {
    "tags": [
     "pdf-inline"
    ]
   },
   "source": [
    "**Inline Question 1**\n",
    "\n",
    "Why do we expect our loss to be close to -log(0.1)? Explain briefly.**\n",
    "\n",
    "$\\color{blue}{\\textit Your Answer:}$ *Because of weights are initialized as uniform, all classes should have similar probability at start. Since the dataset has 10 classes the probability of each class should be 10% with initial weights which means 10 / 100 = 0.1. Since our loss function is $L_i = - \\log (\\frac{e^{sy_i}}{\\sum_{j=1}^{n}{e^{s_j}}})$ the result inside of the log should be equal to 0.1 because of uniformity.. For this reason we assume that our loss close to be $- \\log (0.1)$* \n",
    "\n"
   ]
  },
  {
   "cell_type": "code",
   "execution_count": 20,
   "id": "4c2626ef",
   "metadata": {},
   "outputs": [
    {
     "name": "stdout",
     "output_type": "stream",
     "text": [
      "numerical: -2.671614 analytic: -2.671614, relative error: 2.399359e-08\n",
      "numerical: -2.612628 analytic: -2.612628, relative error: 2.300347e-08\n",
      "numerical: -1.914258 analytic: -1.914259, relative error: 4.477100e-08\n",
      "numerical: -1.933152 analytic: -1.933152, relative error: 1.069127e-08\n",
      "numerical: 0.256216 analytic: 0.256216, relative error: 1.788911e-07\n",
      "numerical: 0.033395 analytic: 0.033395, relative error: 1.831351e-06\n",
      "numerical: -0.467230 analytic: -0.467230, relative error: 1.878228e-08\n",
      "numerical: -5.347996 analytic: -5.347996, relative error: 1.009578e-08\n",
      "numerical: -0.052110 analytic: -0.052110, relative error: 7.534453e-08\n",
      "numerical: -1.887022 analytic: -1.887022, relative error: 7.052309e-09\n",
      "numerical: 2.609508 analytic: 2.609508, relative error: 8.916607e-09\n",
      "numerical: -1.629870 analytic: -1.629870, relative error: 1.524172e-08\n",
      "numerical: 3.430314 analytic: 3.430314, relative error: 3.069536e-09\n",
      "numerical: -1.317663 analytic: -1.317663, relative error: 3.938231e-08\n",
      "numerical: -0.779671 analytic: -0.779671, relative error: 6.555815e-08\n",
      "numerical: -2.127804 analytic: -2.127804, relative error: 1.755465e-08\n",
      "numerical: -0.084509 analytic: -0.084509, relative error: 4.382949e-07\n",
      "numerical: -0.040833 analytic: -0.040833, relative error: 1.092874e-06\n",
      "numerical: -1.002708 analytic: -1.002708, relative error: 9.158660e-08\n",
      "numerical: -0.769186 analytic: -0.769186, relative error: 2.464369e-08\n"
     ]
    }
   ],
   "source": [
    "# Complete the implementation of softmax_loss_naive and implement a (naive)\n",
    "# version of the gradient that uses nested loops.\n",
    "loss, grad = softmax_loss_naive(W, X_dev, y_dev, 0.0)\n",
    "\n",
    "# As we did for the SVM, use numeric gradient checking as a debugging tool.\n",
    "# The numeric gradient should be close to the analytic gradient.\n",
    "from cs231n.gradient_check import grad_check_sparse\n",
    "f = lambda w: softmax_loss_naive(w, X_dev, y_dev, 0.0)[0]\n",
    "grad_numerical = grad_check_sparse(f, W, grad, 10)\n",
    "\n",
    "# similar to SVM case, do another gradient check with regularization\n",
    "loss, grad = softmax_loss_naive(W, X_dev, y_dev, 5e1)\n",
    "f = lambda w: softmax_loss_naive(w, X_dev, y_dev, 5e1)[0]\n",
    "grad_numerical = grad_check_sparse(f, W, grad, 10)"
   ]
  },
  {
   "cell_type": "code",
   "execution_count": 21,
   "id": "434e757f",
   "metadata": {},
   "outputs": [
    {
     "name": "stdout",
     "output_type": "stream",
     "text": [
      "naive loss: 2.365971e+00 computed in 0.162063s\n",
      "vectorized loss: 2.365971e+00 computed in 0.005588s\n",
      "Loss difference: 0.000000\n",
      "Gradient difference: 0.000000\n"
     ]
    }
   ],
   "source": [
    "# Now that we have a naive implementation of the softmax loss function and its gradient,\n",
    "# implement a vectorized version in softmax_loss_vectorized.\n",
    "# The two versions should compute the same results, but the vectorized version should be\n",
    "# much faster.\n",
    "tic = time.time()\n",
    "loss_naive, grad_naive = softmax_loss_naive(W, X_dev, y_dev, 0.000005)\n",
    "toc = time.time()\n",
    "print('naive loss: %e computed in %fs' % (loss_naive, toc - tic))\n",
    "\n",
    "from cs231n.classifiers.softmax import softmax_loss_vectorized\n",
    "tic = time.time()\n",
    "loss_vectorized, grad_vectorized = softmax_loss_vectorized(W, X_dev, y_dev, 0.000005)\n",
    "toc = time.time()\n",
    "print('vectorized loss: %e computed in %fs' % (loss_vectorized, toc - tic))\n",
    "\n",
    "# As we did for the SVM, we use the Frobenius norm to compare the two versions\n",
    "# of the gradient.\n",
    "grad_difference = np.linalg.norm(grad_naive - grad_vectorized, ord='fro')\n",
    "print('Loss difference: %f' % np.abs(loss_naive - loss_vectorized))\n",
    "print('Gradient difference: %f' % grad_difference)"
   ]
  },
  {
   "cell_type": "code",
   "execution_count": 22,
   "id": "2e5e374d",
   "metadata": {
    "tags": [
     "code"
    ],
    "test": "tuning"
   },
   "outputs": [
    {
     "name": "stdout",
     "output_type": "stream",
     "text": [
      "lr 1.000000e-08 reg 1.000000e+04 train accuracy: 0.091163 val accuracy: 0.107000\n",
      "lr 1.000000e-08 reg 2.500000e+04 train accuracy: 0.097531 val accuracy: 0.093000\n",
      "lr 1.000000e-08 reg 5.000000e+04 train accuracy: 0.132959 val accuracy: 0.130000\n",
      "lr 1.000000e-08 reg 7.500000e+04 train accuracy: 0.112755 val accuracy: 0.106000\n",
      "lr 5.000000e-08 reg 1.000000e+04 train accuracy: 0.122592 val accuracy: 0.129000\n",
      "lr 5.000000e-08 reg 2.500000e+04 train accuracy: 0.134857 val accuracy: 0.122000\n",
      "lr 5.000000e-08 reg 5.000000e+04 train accuracy: 0.137163 val accuracy: 0.139000\n",
      "lr 5.000000e-08 reg 7.500000e+04 train accuracy: 0.126204 val accuracy: 0.154000\n",
      "lr 1.000000e-07 reg 1.000000e+04 train accuracy: 0.147224 val accuracy: 0.172000\n",
      "lr 1.000000e-07 reg 2.500000e+04 train accuracy: 0.146020 val accuracy: 0.165000\n",
      "lr 1.000000e-07 reg 5.000000e+04 train accuracy: 0.192245 val accuracy: 0.194000\n",
      "lr 1.000000e-07 reg 7.500000e+04 train accuracy: 0.183592 val accuracy: 0.168000\n",
      "lr 5.000000e-07 reg 1.000000e+04 train accuracy: 0.253061 val accuracy: 0.265000\n",
      "lr 5.000000e-07 reg 2.500000e+04 train accuracy: 0.301163 val accuracy: 0.304000\n",
      "lr 5.000000e-07 reg 5.000000e+04 train accuracy: 0.297490 val accuracy: 0.317000\n",
      "lr 5.000000e-07 reg 7.500000e+04 train accuracy: 0.290388 val accuracy: 0.315000\n",
      "best validation accuracy achieved during cross-validation: 0.317000\n"
     ]
    }
   ],
   "source": [
    "# Use the validation set to tune hyperparameters (regularization strength and\n",
    "# learning rate). You should experiment with different ranges for the learning\n",
    "# rates and regularization strengths; if you are careful you should be able to\n",
    "# get a classification accuracy of over 0.35 on the validation set.\n",
    "\n",
    "from cs231n.classifiers import Softmax\n",
    "results = {}\n",
    "best_val = -1\n",
    "best_softmax = None\n",
    "\n",
    "################################################################################\n",
    "# TODO:                                                                        #\n",
    "# Use the validation set to set the learning rate and regularization strength. #\n",
    "# This should be identical to the validation that you did for the SVM; save    #\n",
    "# the best trained softmax classifer in best_softmax.                          #\n",
    "################################################################################\n",
    "\n",
    "# Provided as a reference. You may or may not want to change these hyperparameters\n",
    "learning_rates = [5e-7, 1e-7, 5e-8, 1e-8]\n",
    "regularization_strengths = [1e4, 2.5e4, 5e4, 7.5e4]\n",
    "\n",
    "# *****START OF YOUR CODE (DO NOT DELETE/MODIFY THIS LINE)*****\n",
    "for lr in learning_rates:\n",
    "    for reg in regularization_strengths:\n",
    "        softmax = Softmax()\n",
    "        softmax.train(X_train, y_train, learning_rate=lr, reg=reg, verbose=False)\n",
    "        # Prediction to calculate training accuracy\n",
    "        y_train_pred = softmax.predict(X_train)\n",
    "        # Traning accuracy\n",
    "        train_accuracy = np.mean(y_train == y_train_pred)\n",
    "        \n",
    "        # Prediction to calculate validation accuracy\n",
    "        y_val_pred = softmax.predict(X_val)\n",
    "        # Validation accuracy\n",
    "        val_accuracy = np.mean(y_val == y_val_pred)\n",
    "\n",
    "        # Train and validation accuracies are stored in results dictionary. \n",
    "        results[(lr, reg)] = (train_accuracy, val_accuracy)\n",
    "        if val_accuracy > best_val:\n",
    "            best_softmax = softmax\n",
    "            best_val = val_accuracy\n",
    "\n",
    "\n",
    "# *****END OF YOUR CODE (DO NOT DELETE/MODIFY THIS LINE)*****\n",
    "    \n",
    "# Print out results.\n",
    "for lr, reg in sorted(results):\n",
    "    train_accuracy, val_accuracy = results[(lr, reg)]\n",
    "    print('lr %e reg %e train accuracy: %f val accuracy: %f' % (\n",
    "                lr, reg, train_accuracy, val_accuracy))\n",
    "    \n",
    "print('best validation accuracy achieved during cross-validation: %f' % best_val)"
   ]
  },
  {
   "cell_type": "code",
   "execution_count": 23,
   "id": "deb37cc6",
   "metadata": {
    "test": "test"
   },
   "outputs": [
    {
     "name": "stdout",
     "output_type": "stream",
     "text": [
      "softmax on raw pixels final test set accuracy: 0.310000\n"
     ]
    }
   ],
   "source": [
    "# evaluate on test set\n",
    "# Evaluate the best softmax on test set\n",
    "y_test_pred = best_softmax.predict(X_test)\n",
    "test_accuracy = np.mean(y_test == y_test_pred)\n",
    "print('softmax on raw pixels final test set accuracy: %f' % (test_accuracy, ))"
   ]
  },
  {
   "cell_type": "markdown",
   "id": "df501314",
   "metadata": {
    "tags": [
     "pdf-inline"
    ]
   },
   "source": [
    "**Inline Question 2** - *True or False*\n",
    "\n",
    "Suppose the overall training loss is defined as the sum of the per-datapoint loss over all training examples. It is possible to add a new datapoint to a training set that would leave the SVM loss unchanged, but this is not the case with the Softmax classifier loss.\n",
    "\n",
    "$\\color{blue}{\\textit Your Answer:}$ True\n",
    "\n",
    "\n",
    "$\\color{blue}{\\textit Your Explanation:}$ Since the SVM loss function is $max(0, s_j - s_y + 1)$ if this $s_y > s_j + 1$ condition is satisfied for all data SVM loss will not change. If the training loss of recent model is zero it may still continue as zero with new dataset. For this reason, SVM loss may remain unchanged with new dataset. To explain it more clearly, assume that we have scores of [2, 11, 9, 8, 5] and assuming 11 is the correct class each loss value will be zero of this input. The reason is $11 > 2 + 1, 11 > 9 + 1, 11 > 8 + 1, 11 > 5 + 1$ all conditions are satisfied so each loss will be 0. To implement more visualization to show why these losses will be zero is $max(0, 2 - 11 + 1), max(0, 9 - 11 + 1), max(0, 8 - 11 + 1), max(0, 5 - 11 + 1)$ so 0 will be maximum value for each implementation.\n",
    "\n",
    "However, because of the loss function of Softmax which is $L_i = - \\log (\\frac{e^{sy_i}}{\\sum_{j=1}^{n}{e^{s_j}}})$, it is not possible to obtain same loss of different datasets. The reason is, Softmax will have probabilities for each class and this probability is different for each input. Even though, all losses close to 0.001 it is will not be the same because of floating numbers. Assuming same input [2, 11, 9, 8, 5] if we want to find the loss we should get exponential of each value and sum them and exponential of 11 which is correct class will be divided to sum. Finally -log() will be applied to calculate final loss. To visualize exponentials of each value is [7.38905610e+00, 5.98741417e+04, 8.10308393e+03, 2.98095799e+03, 1.48413159e+02] and result loss is 0.17203930312807225. Let's assume our input array was [2, 11, 9, 7, 5] for SVM loss it would not change anything but for Softmax loss our new loss is 0.14518467717594596. Thus, we can say that SVM may remain same with same loss but Softmax may not.\n",
    "\n"
   ]
  },
  {
   "cell_type": "code",
   "execution_count": 24,
   "id": "ade33adc",
   "metadata": {},
   "outputs": [
    {
     "data": {
      "image/png": "[encoded data removed]",
      "text/plain": [
       "<Figure size 720x576 with 10 Axes>"
      ]
     },
     "metadata": {
      "needs_background": "light"
     },
     "output_type": "display_data"
    }
   ],
   "source": [
    "# Visualize the learned weights for each class\n",
    "w = best_softmax.W[:-1,:] # strip out the bias\n",
    "w = w.reshape(32, 32, 3, 10)\n",
    "\n",
    "w_min, w_max = np.min(w), np.max(w)\n",
    "\n",
    "classes = ['plane', 'car', 'bird', 'cat', 'deer', 'dog', 'frog', 'horse', 'ship', 'truck']\n",
    "for i in range(10):\n",
    "    plt.subplot(2, 5, i + 1)\n",
    "    \n",
    "    # Rescale the weights to be between 0 and 255\n",
    "    wimg = 255.0 * (w[:, :, :, i].squeeze() - w_min) / (w_max - w_min)\n",
    "    plt.imshow(wimg.astype('uint8'))\n",
    "    plt.axis('off')\n",
    "    plt.title(classes[i])"
   ]
  }
 ],
 "metadata": {
  "kernelspec": {
   "display_name": "Python 3.9.7 ('base')",
   "language": "python",
   "name": "python3"
  },
  "language_info": {
   "codemirror_mode": {
    "name": "ipython",
    "version": 3
   },
   "file_extension": ".py",
   "mimetype": "text/x-python",
   "name": "python",
   "nbconvert_exporter": "python",
   "pygments_lexer": "ipython3",
   "version": "3.9.7"
  },
  "vscode": {
   "interpreter": {
    "hash": "e6939fb834230bc27c1721bdc9ea26fdb75aa4b95eb5fdc58e22f64f0a351ac0"
   }
  }
 },
 "nbformat": 4,
 "nbformat_minor": 5
}
